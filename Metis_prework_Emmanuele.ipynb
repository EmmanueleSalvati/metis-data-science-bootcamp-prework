{
 "metadata": {
  "name": "",
  "signature": "sha256:d8a1063ba0e136e570632a8e552c255e056d855c965dc7dcfbc7d2df820e36d2"
 },
 "nbformat": 3,
 "nbformat_minor": 0,
 "worksheets": [
  {
   "cells": [
    {
     "cell_type": "markdown",
     "metadata": {},
     "source": [
      "This is the Metis Pre-work;\n",
      "Emmanuele Salvati"
     ]
    },
    {
     "cell_type": "markdown",
     "metadata": {},
     "source": [
      "\n",
      "###### Exercise 2.4\n"
     ]
    },
    {
     "cell_type": "code",
     "collapsed": false,
     "input": [
      "from first import MakeFrames\n",
      "from thinkstats2 import CohenEffectSize"
     ],
     "language": "python",
     "metadata": {},
     "outputs": [],
     "prompt_number": 9
    },
    {
     "cell_type": "code",
     "collapsed": false,
     "input": [
      "(live, firsts, others) = MakeFrames()"
     ],
     "language": "python",
     "metadata": {},
     "outputs": [],
     "prompt_number": 10
    },
    {
     "cell_type": "code",
     "collapsed": false,
     "input": [
      "print 'first borns mean weight: %.2f' % firsts.totalwgt_lb.mean()\n",
      "print 'others mean weight: %.2f' % others.totalwgt_lb.mean()\n",
      "print 'Cohen\\'s d: %.3f' % CohenEffectSize(firsts.totalwgt_lb,\n",
      "                                            others.totalwgt_lb)"
     ],
     "language": "python",
     "metadata": {},
     "outputs": [
      {
       "output_type": "stream",
       "stream": "stdout",
       "text": [
        "first borns mean weight: 7.20\n",
        "others mean weight: 7.33\n",
        "Cohen's d: -0.089\n"
       ]
      }
     ],
     "prompt_number": 11
    },
    {
     "cell_type": "markdown",
     "metadata": {},
     "source": [
      "First borns were born with smaller weight; the effect size is 8.9%"
     ]
    },
    {
     "cell_type": "markdown",
     "metadata": {},
     "source": [
      "\n",
      "###### Exercise 3.1\n"
     ]
    },
    {
     "cell_type": "code",
     "collapsed": false,
     "input": [
      "import thinkstats2\n",
      "import thinkplot\n",
      "import sys\n",
      "import probability"
     ],
     "language": "python",
     "metadata": {},
     "outputs": [],
     "prompt_number": 2
    },
    {
     "cell_type": "code",
     "collapsed": false,
     "input": [
      "def ReadFrame(dct_file='2002FemResp.dct', dat_file='2002FemResp.dat.gz'):\n",
      "    \"\"\"Read the input DataFrame\"\"\"\n",
      "    dct = thinkstats2.ReadStataDct(dct_file)\n",
      "    df = dct.ReadFixedWidth(dat_file, compression='gzip')\n",
      "\n",
      "    return df"
     ],
     "language": "python",
     "metadata": {},
     "outputs": [],
     "prompt_number": 4
    },
    {
     "cell_type": "code",
     "collapsed": false,
     "input": [
      "df = ReadFrame()\n",
      "kids = df.numkdhh\n",
      "pmf = thinkstats2.Pmf(kids, label='actual')\n",
      "biased_pmf = probability.BiasPmf(pmf, label='observed')\n",
      "thinkplot.PrePlot(2)\n",
      "thinkplot.Pmfs([pmf, biased_pmf])\n",
      "thinkplot.Show(xlabel='children', ylabel='PMF')\n",
      "thinkplot.Save(root='Ex31_Pmf', formats=['pdf'],\n",
      "                xlabel='children',\n",
      "                ylabel='PMF')\n",
      "print 'Mean of actual number of children: %.2f' % (pmf.Mean())\n",
      "print 'Mean of biased number of children: %.2f' % (biased_pmf.Mean())"
     ],
     "language": "python",
     "metadata": {},
     "outputs": [
      {
       "metadata": {},
       "output_type": "display_data",
       "png": "[encoded data removed]",
       "text": [
        "<matplotlib.figure.Figure at 0x1154593d0>"
       ]
      },
      {
       "output_type": "stream",
       "stream": "stdout",
       "text": [
        "Writing Ex31_Pmf.pdf\n",
        "Mean of actual number of children: 1.02"
       ]
      },
      {
       "output_type": "stream",
       "stream": "stdout",
       "text": [
        "\n",
        "Mean of biased number of children: 2.40\n"
       ]
      },
      {
       "metadata": {},
       "output_type": "display_data",
       "text": [
        "<matplotlib.figure.Figure at 0x11189dfd0>"
       ]
      }
     ],
     "prompt_number": 7
    },
    {
     "cell_type": "markdown",
     "metadata": {},
     "source": [
      "\n",
      "###### Exercise 4.2\n"
     ]
    },
    {
     "cell_type": "code",
     "collapsed": false,
     "input": [
      "import random\n",
      "import thinkstats2\n",
      "import thinkplot\n",
      "\n",
      "my_list = []\n",
      "for i in range(1000):\n",
      "    my_list.append(random.random())\n",
      "pmf = thinkstats2.Pmf(my_list, label='PMF')\n",
      "cdf = thinkstats2.Cdf(my_list, label='CDF')\n",
      "thinkplot.PrePlot(1, cols=2)\n",
      "thinkplot.SubPlot(1)\n",
      "thinkplot.Config(axis=[0, 1, 0, 0.002], xlabel='random', ylabel='PMF')\n",
      "thinkplot.Pmf(pmf, linewidth=0.1)\n",
      "# thinkplot.Show()\n",
      "thinkplot.SubPlot(2)\n",
      "thinkplot.PrePlot(1)\n",
      "thinkplot.Cdf(cdf)\n",
      "thinkplot.Config(xlabel='random', ylabel='CDF')\n",
      "# thinkplot.Show()\n",
      "thinkplot.Save(root='Ex42', formats=['pdf'])"
     ],
     "language": "python",
     "metadata": {},
     "outputs": [
      {
       "output_type": "stream",
       "stream": "stdout",
       "text": [
        "Writing Ex42.pdf\n"
       ]
      },
      {
       "metadata": {},
       "output_type": "display_data",
       "text": [
        "<matplotlib.figure.Figure at 0x1152afb10>"
       ]
      }
     ],
     "prompt_number": 6
    },
    {
     "cell_type": "code",
     "collapsed": false,
     "input": [],
     "language": "python",
     "metadata": {},
     "outputs": []
    }
   ],
   "metadata": {}
  }
 ]
}