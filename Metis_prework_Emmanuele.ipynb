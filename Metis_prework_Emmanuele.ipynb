{
 "metadata": {
  "name": "",
  "signature": "sha256:eccf75c1ecbb861624bd6b277cf562bd8e5e9948ff9e71ff0d9ebdfd91926609"
 },
 "nbformat": 3,
 "nbformat_minor": 0,
 "worksheets": [
  {
   "cells": [
    {
     "cell_type": "markdown",
     "metadata": {},
     "source": [
      "This is the Metis Pre-work;\n",
      "Emmanuele Salvati"
     ]
    },
    {
     "cell_type": "code",
     "collapsed": false,
     "input": [
      "from first import MakeFrames\n",
      "from thinkstats2 import CohenEffectSize"
     ],
     "language": "python",
     "metadata": {},
     "outputs": [],
     "prompt_number": 9
    },
    {
     "cell_type": "code",
     "collapsed": false,
     "input": [
      "(live, firsts, others) = MakeFrames()"
     ],
     "language": "python",
     "metadata": {},
     "outputs": [],
     "prompt_number": 10
    },
    {
     "cell_type": "code",
     "collapsed": false,
     "input": [
      "print 'first borns mean weight: %.2f' % firsts.totalwgt_lb.mean()\n",
      "print 'others mean weight: %.2f' % others.totalwgt_lb.mean()\n",
      "print 'Cohen\\'s d: %.3f' % CohenEffectSize(firsts.totalwgt_lb,\n",
      "                                            others.totalwgt_lb)"
     ],
     "language": "python",
     "metadata": {},
     "outputs": [
      {
       "output_type": "stream",
       "stream": "stdout",
       "text": [
        "first borns mean weight: 7.20\n",
        "others mean weight: 7.33\n",
        "Cohen's d: -0.089\n"
       ]
      }
     ],
     "prompt_number": 11
    },
    {
     "cell_type": "markdown",
     "metadata": {},
     "source": [
      "First borns were born with smaller weight; the effect size is 8.9%"
     ]
    },
    {
     "cell_type": "code",
     "collapsed": false,
     "input": [],
     "language": "python",
     "metadata": {},
     "outputs": [],
     "prompt_number": 11
    },
    {
     "cell_type": "code",
     "collapsed": false,
     "input": [],
     "language": "python",
     "metadata": {},
     "outputs": [],
     "prompt_number": 11
    },
    {
     "cell_type": "code",
     "collapsed": false,
     "input": [],
     "language": "python",
     "metadata": {},
     "outputs": []
    }
   ],
   "metadata": {}
  }
 ]
}